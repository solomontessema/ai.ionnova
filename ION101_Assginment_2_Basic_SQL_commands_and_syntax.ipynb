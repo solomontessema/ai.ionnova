{
  "nbformat": 4,
  "nbformat_minor": 0,
  "metadata": {
    "colab": {
      "provenance": [],
      "include_colab_link": true
    },
    "kernelspec": {
      "name": "python3",
      "display_name": "Python 3"
    },
    "language_info": {
      "name": "python"
    }
  },
  "cells": [
    {
      "cell_type": "markdown",
      "metadata": {
        "id": "view-in-github",
        "colab_type": "text"
      },
      "source": [
        "<a href=\"https://colab.research.google.com/github/solomontessema/ai.ionnova/blob/master/ION101_Assginment_2_Basic_SQL_commands_and_syntax.ipynb\" target=\"_parent\"><img src=\"https://colab.research.google.com/assets/colab-badge.svg\" alt=\"Open In Colab\"/></a>"
      ]
    },
    {
      "cell_type": "markdown",
      "source": [
        "<img src=\"https://ionnova.com/img/ionnova_banner.png\" alt=\"IONNOVA\"/>"
      ],
      "metadata": {
        "id": "hzj76_K2I5NU"
      }
    },
    {
      "cell_type": "markdown",
      "source": [
        "**Name:** Your Name Here\n",
        "\n",
        "**Date:** Today's Date"
      ],
      "metadata": {
        "id": "1o9sEKWeS4V4"
      }
    },
    {
      "cell_type": "markdown",
      "source": [
        "**The following code installs and loads SQLite. You don't need to worry about understanding it right now - just run it to set up everything needed for your homework.**"
      ],
      "metadata": {
        "id": "gq6h_wXASbx0"
      }
    },
    {
      "cell_type": "code",
      "source": [
        "# Install SQL magic (if needed)\n",
        "!pip install ipython-sql\n",
        "\n",
        "import pandas as pd\n",
        "import sqlite3\n",
        "import prettytable as pt\n",
        "pt.prettytable.DEFAULT = pt.PLAIN_COLUMNS\n",
        "\n",
        "# Load SQL magic extension\n",
        "%load_ext sql\n",
        "\n",
        "# Load dataset\n",
        "url = \"https://ionnova.com/superstore.csv\"\n",
        "df = pd.read_csv(url, encoding=\"latin1\")\n",
        "\n",
        "# Clean column names: remove spaces and convert to lowercase_with_underscores\n",
        "df.columns = df.columns.str.strip().str.replace(' ', '_').str.replace('-', '_').str.lower()\n",
        "\n",
        "# Save database as a file (instead of in-memory)\n",
        "conn = sqlite3.connect(\"superstore.db\")  # Ensures persistence\n",
        "df.to_sql(\"superstore\", conn, index=False, if_exists=\"replace\")\n",
        "\n",
        "# Use persistent SQLite file for SQL magic\n",
        "%sql sqlite:///superstore.db\n",
        "\n",
        "# Optional: Set prettytable output format for %sql queries\n",
        "import sql\n",
        "sql.run.prettytable.__dict__[\"DEFAULT\"] = sql.run.prettytable.PLAIN_COLUMNS\n"
      ],
      "metadata": {
        "id": "S77JTjMzO2JW"
      },
      "execution_count": null,
      "outputs": []
    },
    {
      "cell_type": "markdown",
      "source": [
        "**First, let's take a look at the data by limiting it to five rows.**"
      ],
      "metadata": {
        "id": "4DRbGXN2RFv7"
      }
    },
    {
      "cell_type": "code",
      "source": [
        "%%sql\n",
        "SELECT *\n",
        "FROM superstore\n",
        "LIMIT 5;\n"
      ],
      "metadata": {
        "id": "_CwO_vfLQWoc"
      },
      "execution_count": null,
      "outputs": []
    },
    {
      "cell_type": "markdown",
      "source": [
        "**Select customer_name and sales columns, limit your result to 5 rows.**"
      ],
      "metadata": {
        "id": "kIrCzi5wRxqL"
      }
    },
    {
      "cell_type": "code",
      "source": [
        "%%sql\n",
        "'Your code here'"
      ],
      "metadata": {
        "id": "VGHotpnBR-FD"
      },
      "execution_count": null,
      "outputs": []
    },
    {
      "cell_type": "markdown",
      "source": [
        "**Select customer_name as client, and sales as revenue.**"
      ],
      "metadata": {
        "id": "39oMNYfrTdof"
      }
    },
    {
      "cell_type": "code",
      "source": [
        "%%sql\n",
        "'Your code here';"
      ],
      "metadata": {
        "id": "NI0ylYbCTcKQ"
      },
      "execution_count": null,
      "outputs": []
    },
    {
      "cell_type": "markdown",
      "source": [
        "**Select customer_name as client, and sales as revenue. Sort them in ascending order by client**\n",
        "\n",
        "```\n",
        "# This is formatted as code\n",
        "```\n",
        "\n"
      ],
      "metadata": {
        "id": "93uhsvnQVcON"
      }
    },
    {
      "cell_type": "code",
      "source": [
        "%%sql\n",
        "'Your code here'"
      ],
      "metadata": {
        "id": "Nj8nZubBVgSH"
      },
      "execution_count": null,
      "outputs": []
    },
    {
      "cell_type": "markdown",
      "source": [
        "**Select customer_name as client, and sales as revenue. Show only the ones from 'Africa' Sort them in ascending order by client**"
      ],
      "metadata": {
        "id": "TvyMD0r5iMyX"
      }
    },
    {
      "cell_type": "code",
      "source": [
        "%%sql\n",
        "'Your code here'"
      ],
      "metadata": {
        "id": "KFt7QmkMitZ-"
      },
      "execution_count": null,
      "outputs": []
    },
    {
      "cell_type": "markdown",
      "source": [
        "** Display the total sum of the sale for each country (group by). Display country and sales **"
      ],
      "metadata": {
        "id": "NgaY9J2aYcOT"
      }
    },
    {
      "cell_type": "code",
      "source": [
        "%%sql\n",
        "'Your code here';\n"
      ],
      "metadata": {
        "id": "uEBuXAGHiPyD"
      },
      "execution_count": null,
      "outputs": []
    },
    {
      "cell_type": "markdown",
      "source": [],
      "metadata": {
        "id": "OyYS2EhbRooQ"
      }
    }
  ]
}