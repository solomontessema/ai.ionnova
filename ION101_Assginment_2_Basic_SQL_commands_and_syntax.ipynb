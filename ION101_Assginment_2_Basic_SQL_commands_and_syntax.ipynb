{
  "nbformat": 4,
  "nbformat_minor": 0,
  "metadata": {
    "colab": {
      "provenance": [],
      "include_colab_link": true
    },
    "kernelspec": {
      "name": "python3",
      "display_name": "Python 3"
    },
    "language_info": {
      "name": "python"
    }
  },
  "cells": [
    {
      "cell_type": "markdown",
      "metadata": {
        "id": "view-in-github",
        "colab_type": "text"
      },
      "source": [
        "<a href=\"https://colab.research.google.com/github/solomontessema/ai.ionnova/blob/master/ION101_Assginment_2_Basic_SQL_commands_and_syntax.ipynb\" target=\"_parent\"><img src=\"https://colab.research.google.com/assets/colab-badge.svg\" alt=\"Open In Colab\"/></a>"
      ]
    },
    {
      "cell_type": "markdown",
      "source": [
        "<img src=\"https://ionnova.com/img/ionnova_banner.png\" alt=\"IONNOVA\"/>"
      ],
      "metadata": {
        "id": "hzj76_K2I5NU"
      }
    },
    {
      "cell_type": "markdown",
      "source": [
        "**Name:** Your Name Here\n",
        "\n",
        "**Date:** Today's Date"
      ],
      "metadata": {
        "id": "1o9sEKWeS4V4"
      }
    },
    {
      "cell_type": "markdown",
      "source": [
        "**The following code installs and loads SQLite. You don't need to worry about understanding it right now - just run it to set up everything needed for your homework.**"
      ],
      "metadata": {
        "id": "gq6h_wXASbx0"
      }
    },
    {
      "cell_type": "code",
      "source": [
        "# Install SQL magic (if needed)\n",
        "!pip install ipython-sql\n",
        "\n",
        "import pandas as pd\n",
        "import sqlite3\n",
        "import prettytable as pt\n",
        "pt.prettytable.DEFAULT = pt.PLAIN_COLUMNS\n",
        "\n",
        "# Load SQL magic extension\n",
        "%load_ext sql\n",
        "\n",
        "# Load dataset\n",
        "url = \"https://ionnova.com/superstore.csv\"\n",
        "df = pd.read_csv(url, encoding=\"latin1\")\n",
        "\n",
        "# Clean column names: remove spaces and convert to lowercase_with_underscores\n",
        "df.columns = df.columns.str.strip().str.replace(' ', '_').str.replace('-', '_').str.lower()\n",
        "\n",
        "# Save database as a file (instead of in-memory)\n",
        "conn = sqlite3.connect(\"superstore.db\")  # Ensures persistence\n",
        "df.to_sql(\"superstore\", conn, index=False, if_exists=\"replace\")\n",
        "\n",
        "# Use persistent SQLite file for SQL magic\n",
        "%sql sqlite:///superstore.db\n",
        "\n",
        "# Optional: Set prettytable output format for %sql queries\n",
        "import sql\n",
        "sql.run.prettytable.__dict__[\"DEFAULT\"] = sql.run.prettytable.PLAIN_COLUMNS\n"
      ],
      "metadata": {
        "id": "S77JTjMzO2JW",
        "colab": {
          "base_uri": "https://localhost:8080/"
        },
        "outputId": "d35abc98-611b-401b-fe1b-45bbc145a766"
      },
      "execution_count": 3,
      "outputs": [
        {
          "output_type": "stream",
          "name": "stdout",
          "text": [
            "Requirement already satisfied: ipython-sql in /usr/local/lib/python3.11/dist-packages (0.5.0)\n",
            "Requirement already satisfied: prettytable in /usr/local/lib/python3.11/dist-packages (from ipython-sql) (3.16.0)\n",
            "Requirement already satisfied: ipython in /usr/local/lib/python3.11/dist-packages (from ipython-sql) (7.34.0)\n",
            "Requirement already satisfied: sqlalchemy>=2.0 in /usr/local/lib/python3.11/dist-packages (from ipython-sql) (2.0.41)\n",
            "Requirement already satisfied: sqlparse in /usr/local/lib/python3.11/dist-packages (from ipython-sql) (0.5.3)\n",
            "Requirement already satisfied: six in /usr/local/lib/python3.11/dist-packages (from ipython-sql) (1.17.0)\n",
            "Requirement already satisfied: ipython-genutils in /usr/local/lib/python3.11/dist-packages (from ipython-sql) (0.2.0)\n",
            "Requirement already satisfied: greenlet>=1 in /usr/local/lib/python3.11/dist-packages (from sqlalchemy>=2.0->ipython-sql) (3.2.2)\n",
            "Requirement already satisfied: typing-extensions>=4.6.0 in /usr/local/lib/python3.11/dist-packages (from sqlalchemy>=2.0->ipython-sql) (4.14.0)\n",
            "Requirement already satisfied: setuptools>=18.5 in /usr/local/lib/python3.11/dist-packages (from ipython->ipython-sql) (75.2.0)\n",
            "Requirement already satisfied: jedi>=0.16 in /usr/local/lib/python3.11/dist-packages (from ipython->ipython-sql) (0.19.2)\n",
            "Requirement already satisfied: decorator in /usr/local/lib/python3.11/dist-packages (from ipython->ipython-sql) (4.4.2)\n",
            "Requirement already satisfied: pickleshare in /usr/local/lib/python3.11/dist-packages (from ipython->ipython-sql) (0.7.5)\n",
            "Requirement already satisfied: traitlets>=4.2 in /usr/local/lib/python3.11/dist-packages (from ipython->ipython-sql) (5.7.1)\n",
            "Requirement already satisfied: prompt-toolkit!=3.0.0,!=3.0.1,<3.1.0,>=2.0.0 in /usr/local/lib/python3.11/dist-packages (from ipython->ipython-sql) (3.0.51)\n",
            "Requirement already satisfied: pygments in /usr/local/lib/python3.11/dist-packages (from ipython->ipython-sql) (2.19.1)\n",
            "Requirement already satisfied: backcall in /usr/local/lib/python3.11/dist-packages (from ipython->ipython-sql) (0.2.0)\n",
            "Requirement already satisfied: matplotlib-inline in /usr/local/lib/python3.11/dist-packages (from ipython->ipython-sql) (0.1.7)\n",
            "Requirement already satisfied: pexpect>4.3 in /usr/local/lib/python3.11/dist-packages (from ipython->ipython-sql) (4.9.0)\n",
            "Requirement already satisfied: wcwidth in /usr/local/lib/python3.11/dist-packages (from prettytable->ipython-sql) (0.2.13)\n",
            "Requirement already satisfied: parso<0.9.0,>=0.8.4 in /usr/local/lib/python3.11/dist-packages (from jedi>=0.16->ipython->ipython-sql) (0.8.4)\n",
            "Requirement already satisfied: ptyprocess>=0.5 in /usr/local/lib/python3.11/dist-packages (from pexpect>4.3->ipython->ipython-sql) (0.7.0)\n",
            "The sql extension is already loaded. To reload it, use:\n",
            "  %reload_ext sql\n"
          ]
        }
      ]
    },
    {
      "cell_type": "markdown",
      "source": [
        "**First, let's take a look at the data by limiting it to five rows.**"
      ],
      "metadata": {
        "id": "4DRbGXN2RFv7"
      }
    },
    {
      "cell_type": "code",
      "source": [
        "%%sql\n",
        "SELECT *\n",
        "FROM superstore\n",
        "LIMIT 5;\n"
      ],
      "metadata": {
        "id": "_CwO_vfLQWoc",
        "colab": {
          "base_uri": "https://localhost:8080/",
          "height": 478
        },
        "outputId": "3cb849c6-91f5-4973-ec90-330093a055a8"
      },
      "execution_count": 4,
      "outputs": [
        {
          "output_type": "stream",
          "name": "stdout",
          "text": [
            " * sqlite:///superstore.db\n",
            "Done.\n"
          ]
        },
        {
          "output_type": "execute_result",
          "data": {
            "text/plain": [
              "[(32298, 'CA-2012-124891', '31-07-2012', '31-07-2012', 'Same Day', 'RH-19495', 'Rick Hansen', 'Consumer', 'New York City', 'New York', 'United States', 10024.0, 'US', 'East', 'TEC-AC-10003033', 'Technology', 'Accessories', 'Plantronics CS510 - Over-the-Head monaural Wireless Headset System', 2309.65, 7, 0.0, 762.1845, 933.57, 'Critical'),\n",
              " (26341, 'IN-2013-77878', '05-02-2013', '07-02-2013', 'Second Class', 'JR-16210', 'Justin Ritter', 'Corporate', 'Wollongong', 'New South Wales', 'Australia', None, 'APAC', 'Oceania', 'FUR-CH-10003950', 'Furniture', 'Chairs', 'Novimex Executive Leather Armchair, Black', 3709.395, 9, 0.1, -288.765, 923.63, 'Critical'),\n",
              " (25330, 'IN-2013-71249', '17-10-2013', '18-10-2013', 'First Class', 'CR-12730', 'Craig Reiter', 'Consumer', 'Brisbane', 'Queensland', 'Australia', None, 'APAC', 'Oceania', 'TEC-PH-10004664', 'Technology', 'Phones', 'Nokia Smart Phone, with Caller ID', 5175.171, 9, 0.1, 919.971, 915.49, 'Medium'),\n",
              " (13524, 'ES-2013-1579342', '28-01-2013', '30-01-2013', 'First Class', 'KM-16375', 'Katherine Murray', 'Home Office', 'Berlin', 'Berlin', 'Germany', None, 'EU', 'Central', 'TEC-PH-10004583', 'Technology', 'Phones', 'Motorola Smart Phone, Cordless', 2892.51, 5, 0.1, -96.54, 910.16, 'Medium'),\n",
              " (47221, 'SG-2013-4320', '05-11-2013', '06-11-2013', 'Same Day', 'RH-9495', 'Rick Hansen', 'Consumer', 'Dakar', 'Dakar', 'Senegal', None, 'Africa', 'Africa', 'TEC-SHA-10000501', 'Technology', 'Copiers', 'Sharp Wireless Fax, High-Speed', 2832.96, 8, 0.0, 311.52, 903.04, 'Critical')]"
            ],
            "text/html": [
              "<table>\n",
              "    <thead>\n",
              "        <tr>\n",
              "            <th>row_id</th>\n",
              "            <th>order_id</th>\n",
              "            <th>order_date</th>\n",
              "            <th>ship_date</th>\n",
              "            <th>ship_mode</th>\n",
              "            <th>customer_id</th>\n",
              "            <th>customer_name</th>\n",
              "            <th>segment</th>\n",
              "            <th>city</th>\n",
              "            <th>state</th>\n",
              "            <th>country</th>\n",
              "            <th>postal_code</th>\n",
              "            <th>market</th>\n",
              "            <th>region</th>\n",
              "            <th>product_id</th>\n",
              "            <th>category</th>\n",
              "            <th>sub_category</th>\n",
              "            <th>product_name</th>\n",
              "            <th>sales</th>\n",
              "            <th>quantity</th>\n",
              "            <th>discount</th>\n",
              "            <th>profit</th>\n",
              "            <th>shipping_cost</th>\n",
              "            <th>order_priority</th>\n",
              "        </tr>\n",
              "    </thead>\n",
              "    <tbody>\n",
              "        <tr>\n",
              "            <td>32298</td>\n",
              "            <td>CA-2012-124891</td>\n",
              "            <td>31-07-2012</td>\n",
              "            <td>31-07-2012</td>\n",
              "            <td>Same Day</td>\n",
              "            <td>RH-19495</td>\n",
              "            <td>Rick Hansen</td>\n",
              "            <td>Consumer</td>\n",
              "            <td>New York City</td>\n",
              "            <td>New York</td>\n",
              "            <td>United States</td>\n",
              "            <td>10024.0</td>\n",
              "            <td>US</td>\n",
              "            <td>East</td>\n",
              "            <td>TEC-AC-10003033</td>\n",
              "            <td>Technology</td>\n",
              "            <td>Accessories</td>\n",
              "            <td>Plantronics CS510 - Over-the-Head monaural Wireless Headset System</td>\n",
              "            <td>2309.65</td>\n",
              "            <td>7</td>\n",
              "            <td>0.0</td>\n",
              "            <td>762.1845</td>\n",
              "            <td>933.57</td>\n",
              "            <td>Critical</td>\n",
              "        </tr>\n",
              "        <tr>\n",
              "            <td>26341</td>\n",
              "            <td>IN-2013-77878</td>\n",
              "            <td>05-02-2013</td>\n",
              "            <td>07-02-2013</td>\n",
              "            <td>Second Class</td>\n",
              "            <td>JR-16210</td>\n",
              "            <td>Justin Ritter</td>\n",
              "            <td>Corporate</td>\n",
              "            <td>Wollongong</td>\n",
              "            <td>New South Wales</td>\n",
              "            <td>Australia</td>\n",
              "            <td>None</td>\n",
              "            <td>APAC</td>\n",
              "            <td>Oceania</td>\n",
              "            <td>FUR-CH-10003950</td>\n",
              "            <td>Furniture</td>\n",
              "            <td>Chairs</td>\n",
              "            <td>Novimex Executive Leather Armchair, Black</td>\n",
              "            <td>3709.395</td>\n",
              "            <td>9</td>\n",
              "            <td>0.1</td>\n",
              "            <td>-288.765</td>\n",
              "            <td>923.63</td>\n",
              "            <td>Critical</td>\n",
              "        </tr>\n",
              "        <tr>\n",
              "            <td>25330</td>\n",
              "            <td>IN-2013-71249</td>\n",
              "            <td>17-10-2013</td>\n",
              "            <td>18-10-2013</td>\n",
              "            <td>First Class</td>\n",
              "            <td>CR-12730</td>\n",
              "            <td>Craig Reiter</td>\n",
              "            <td>Consumer</td>\n",
              "            <td>Brisbane</td>\n",
              "            <td>Queensland</td>\n",
              "            <td>Australia</td>\n",
              "            <td>None</td>\n",
              "            <td>APAC</td>\n",
              "            <td>Oceania</td>\n",
              "            <td>TEC-PH-10004664</td>\n",
              "            <td>Technology</td>\n",
              "            <td>Phones</td>\n",
              "            <td>Nokia Smart Phone, with Caller ID</td>\n",
              "            <td>5175.171</td>\n",
              "            <td>9</td>\n",
              "            <td>0.1</td>\n",
              "            <td>919.971</td>\n",
              "            <td>915.49</td>\n",
              "            <td>Medium</td>\n",
              "        </tr>\n",
              "        <tr>\n",
              "            <td>13524</td>\n",
              "            <td>ES-2013-1579342</td>\n",
              "            <td>28-01-2013</td>\n",
              "            <td>30-01-2013</td>\n",
              "            <td>First Class</td>\n",
              "            <td>KM-16375</td>\n",
              "            <td>Katherine Murray</td>\n",
              "            <td>Home Office</td>\n",
              "            <td>Berlin</td>\n",
              "            <td>Berlin</td>\n",
              "            <td>Germany</td>\n",
              "            <td>None</td>\n",
              "            <td>EU</td>\n",
              "            <td>Central</td>\n",
              "            <td>TEC-PH-10004583</td>\n",
              "            <td>Technology</td>\n",
              "            <td>Phones</td>\n",
              "            <td>Motorola Smart Phone, Cordless</td>\n",
              "            <td>2892.51</td>\n",
              "            <td>5</td>\n",
              "            <td>0.1</td>\n",
              "            <td>-96.54</td>\n",
              "            <td>910.16</td>\n",
              "            <td>Medium</td>\n",
              "        </tr>\n",
              "        <tr>\n",
              "            <td>47221</td>\n",
              "            <td>SG-2013-4320</td>\n",
              "            <td>05-11-2013</td>\n",
              "            <td>06-11-2013</td>\n",
              "            <td>Same Day</td>\n",
              "            <td>RH-9495</td>\n",
              "            <td>Rick Hansen</td>\n",
              "            <td>Consumer</td>\n",
              "            <td>Dakar</td>\n",
              "            <td>Dakar</td>\n",
              "            <td>Senegal</td>\n",
              "            <td>None</td>\n",
              "            <td>Africa</td>\n",
              "            <td>Africa</td>\n",
              "            <td>TEC-SHA-10000501</td>\n",
              "            <td>Technology</td>\n",
              "            <td>Copiers</td>\n",
              "            <td>Sharp Wireless Fax, High-Speed</td>\n",
              "            <td>2832.96</td>\n",
              "            <td>8</td>\n",
              "            <td>0.0</td>\n",
              "            <td>311.52</td>\n",
              "            <td>903.04</td>\n",
              "            <td>Critical</td>\n",
              "        </tr>\n",
              "    </tbody>\n",
              "</table>"
            ]
          },
          "metadata": {},
          "execution_count": 4
        }
      ]
    },
    {
      "cell_type": "markdown",
      "source": [
        "**Select customer_name and sales columns, limit your result to 5 rows.**"
      ],
      "metadata": {
        "id": "kIrCzi5wRxqL"
      }
    },
    {
      "cell_type": "code",
      "source": [
        "%%sql\n",
        "SELECT customer_name, sales\n",
        "FROM superstore\n",
        "LIMIT 5;\n"
      ],
      "metadata": {
        "id": "VGHotpnBR-FD",
        "colab": {
          "base_uri": "https://localhost:8080/",
          "height": 181
        },
        "outputId": "970fa2ed-7571-40d7-9751-ddd68aca985f"
      },
      "execution_count": 5,
      "outputs": [
        {
          "output_type": "stream",
          "name": "stdout",
          "text": [
            " * sqlite:///superstore.db\n",
            "Done.\n"
          ]
        },
        {
          "output_type": "execute_result",
          "data": {
            "text/plain": [
              "[('Rick Hansen', 2309.65),\n",
              " ('Justin Ritter', 3709.395),\n",
              " ('Craig Reiter', 5175.171),\n",
              " ('Katherine Murray', 2892.51),\n",
              " ('Rick Hansen', 2832.96)]"
            ],
            "text/html": [
              "<table>\n",
              "    <thead>\n",
              "        <tr>\n",
              "            <th>customer_name</th>\n",
              "            <th>sales</th>\n",
              "        </tr>\n",
              "    </thead>\n",
              "    <tbody>\n",
              "        <tr>\n",
              "            <td>Rick Hansen</td>\n",
              "            <td>2309.65</td>\n",
              "        </tr>\n",
              "        <tr>\n",
              "            <td>Justin Ritter</td>\n",
              "            <td>3709.395</td>\n",
              "        </tr>\n",
              "        <tr>\n",
              "            <td>Craig Reiter</td>\n",
              "            <td>5175.171</td>\n",
              "        </tr>\n",
              "        <tr>\n",
              "            <td>Katherine Murray</td>\n",
              "            <td>2892.51</td>\n",
              "        </tr>\n",
              "        <tr>\n",
              "            <td>Rick Hansen</td>\n",
              "            <td>2832.96</td>\n",
              "        </tr>\n",
              "    </tbody>\n",
              "</table>"
            ]
          },
          "metadata": {},
          "execution_count": 5
        }
      ]
    },
    {
      "cell_type": "markdown",
      "source": [
        "**Now Query only three columns—City, State, and Country—and limit the results to 15 rows. I've started the code for you, so just complete the missing part.**"
      ],
      "metadata": {
        "id": "39oMNYfrTdof"
      }
    },
    {
      "cell_type": "code",
      "source": [
        "%%sql\n",
        "SELECT customer_name AS client, sales AS revenue FROM superstore;"
      ],
      "metadata": {
        "id": "NI0ylYbCTcKQ"
      },
      "execution_count": null,
      "outputs": []
    },
    {
      "cell_type": "markdown",
      "source": [
        "**Query only three columns—City, State, where the Country is 'Australia' and limit the results to 15 rows. I've started the code for you, so just complete the missing part.**"
      ],
      "metadata": {
        "id": "93uhsvnQVcON"
      }
    },
    {
      "cell_type": "code",
      "source": [
        "%%sql\n",
        "SELECT *\n",
        "FROM superstore\n",
        "WHERE country = 'Your code here'\n",
        "LIMIT 'Your code here'"
      ],
      "metadata": {
        "id": "Nj8nZubBVgSH"
      },
      "execution_count": null,
      "outputs": []
    },
    {
      "cell_type": "markdown",
      "source": [
        "**Now do your magic! I won’t be helping this time—give me only the columns City and Country where the Region is 'South'.**"
      ],
      "metadata": {
        "id": "TvyMD0r5iMyX"
      }
    },
    {
      "cell_type": "code",
      "source": [
        "%%sql"
      ],
      "metadata": {
        "id": "KFt7QmkMitZ-"
      },
      "execution_count": null,
      "outputs": []
    },
    {
      "cell_type": "code",
      "source": [],
      "metadata": {
        "id": "uEBuXAGHiPyD"
      },
      "execution_count": null,
      "outputs": []
    },
    {
      "cell_type": "markdown",
      "source": [],
      "metadata": {
        "id": "OyYS2EhbRooQ"
      }
    }
  ]
}